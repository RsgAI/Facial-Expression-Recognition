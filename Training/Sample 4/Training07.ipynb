{
 "cells": [
  {
   "cell_type": "markdown",
   "metadata": {},
   "source": [
    "# Training7\n",
    "\n",
    "In this notebook file, Sample4 sample will be read from pkl file.\n",
    "\n",
    "Input(X) and Output(Y) numpy arrays will be created from pandas dataframes.\n",
    "\n",
    "VGG16 pre-trained model will be load and used.\n",
    "\n",
    "The pre-trained model will be set to non-trainable and will only be used for feature extraction.\n",
    "\n",
    "Training will only be performed on the fully connected layers and the output layer, that will be added to the end of the pre-trained model.\n",
    "\n",
    "In this way, the experience gained by the model on very large data sets will be used for this classification problem.\n",
    "\n",
    "This method is known as [**Transfer Learning**](https://en.wikipedia.org/wiki/Transfer_learning \"wikipedia\").\n",
    "\n",
    "A keras utils Sequence class will be defined so that operations can be performed on the data to be used during the training.\n",
    "\n",
    "Performance will be checked with Validation data while training model with Augmented Training data.\n",
    "\n",
    "Accuracy and Loss charts will be drawn according to epoch numbers.\n",
    "\n",
    "The results obtained by evaluating the model with Test data will be printed.\n",
    "\n",
    "Based on the Test data, prediction distribution charts will be drawn for each label."
   ]
  },
  {
   "cell_type": "code",
   "execution_count": 1,
   "metadata": {},
   "outputs": [],
   "source": [
    "#Libraries are being imported\n",
    "import numpy as np\n",
    "import pandas as pd\n",
    "import tensorflow as tf\n",
    "import matplotlib\n",
    "import matplotlib.pyplot as plt"
   ]
  },
  {
   "cell_type": "code",
   "execution_count": 2,
   "metadata": {},
   "outputs": [
    {
     "name": "stdout",
     "output_type": "stream",
     "text": [
      "numpy Version: 1.22.3\n",
      "pandas Version: 1.4.3\n",
      "tensorflow Version: 2.6.0\n",
      "matplotlib Version: 3.5.2\n"
     ]
    }
   ],
   "source": [
    "#Library versions are being printed\n",
    "print('numpy Version: ' + np.__version__)\n",
    "print('pandas Version: ' + pd.__version__)\n",
    "print('tensorflow Version: ' + tf.__version__)\n",
    "print('matplotlib Version: ' + matplotlib.__version__)"
   ]
  },
  {
   "cell_type": "code",
   "execution_count": 3,
   "metadata": {},
   "outputs": [
    {
     "name": "stdout",
     "output_type": "stream",
     "text": [
      "/device:GPU:0\n"
     ]
    }
   ],
   "source": [
    "#GPU will be used for training\n",
    "myGPU = tf.test.gpu_device_name()\n",
    "if myGPU:\n",
    "    print(myGPU)\n",
    "else:\n",
    "    print(\"Error\")"
   ]
  },
  {
   "cell_type": "code",
   "execution_count": 4,
   "metadata": {},
   "outputs": [],
   "source": [
    "#BatchSize and EpochNumber constants are being defined\n",
    "#A small batchSize value is being chosen to prevent GPU memory problem\n",
    "#Large batchSize reduce training time while also generally providing better results\n",
    "BATCH_SIZE = 8\n",
    "EPOCH_NUMBER = 15"
   ]
  },
  {
   "cell_type": "code",
   "execution_count": 5,
   "metadata": {},
   "outputs": [
    {
     "data": {
      "text/html": [
       "<div>\n",
       "<style scoped>\n",
       "    .dataframe tbody tr th:only-of-type {\n",
       "        vertical-align: middle;\n",
       "    }\n",
       "\n",
       "    .dataframe tbody tr th {\n",
       "        vertical-align: top;\n",
       "    }\n",
       "\n",
       "    .dataframe thead th {\n",
       "        text-align: right;\n",
       "    }\n",
       "</style>\n",
       "<table border=\"1\" class=\"dataframe\">\n",
       "  <thead>\n",
       "    <tr style=\"text-align: right;\">\n",
       "      <th></th>\n",
       "      <th>Name</th>\n",
       "    </tr>\n",
       "  </thead>\n",
       "  <tbody>\n",
       "    <tr>\n",
       "      <th>0</th>\n",
       "      <td>Happy</td>\n",
       "    </tr>\n",
       "    <tr>\n",
       "      <th>1</th>\n",
       "      <td>Sad</td>\n",
       "    </tr>\n",
       "    <tr>\n",
       "      <th>2</th>\n",
       "      <td>Surprise</td>\n",
       "    </tr>\n",
       "    <tr>\n",
       "      <th>3</th>\n",
       "      <td>Neutral</td>\n",
       "    </tr>\n",
       "  </tbody>\n",
       "</table>\n",
       "</div>"
      ],
      "text/plain": [
       "       Name\n",
       "0     Happy\n",
       "1       Sad\n",
       "2  Surprise\n",
       "3   Neutral"
      ]
     },
     "execution_count": 5,
     "metadata": {},
     "output_type": "execute_result"
    }
   ],
   "source": [
    "#The Labels are being read from json file\n",
    "labelDf = pd.read_json('../../Data/RawData/Label/Sample4Label.json')\n",
    "labelDf"
   ]
  },
  {
   "cell_type": "code",
   "execution_count": 6,
   "metadata": {},
   "outputs": [
    {
     "data": {
      "text/html": [
       "<div>\n",
       "<style scoped>\n",
       "    .dataframe tbody tr th:only-of-type {\n",
       "        vertical-align: middle;\n",
       "    }\n",
       "\n",
       "    .dataframe tbody tr th {\n",
       "        vertical-align: top;\n",
       "    }\n",
       "\n",
       "    .dataframe thead th {\n",
       "        text-align: right;\n",
       "    }\n",
       "</style>\n",
       "<table border=\"1\" class=\"dataframe\">\n",
       "  <thead>\n",
       "    <tr style=\"text-align: right;\">\n",
       "      <th></th>\n",
       "      <th>Label</th>\n",
       "      <th>ImageBGR</th>\n",
       "    </tr>\n",
       "  </thead>\n",
       "  <tbody>\n",
       "    <tr>\n",
       "      <th>0</th>\n",
       "      <td>0</td>\n",
       "      <td>[[[87, 157, 140], [98, 168, 157], [115, 184, 1...</td>\n",
       "    </tr>\n",
       "    <tr>\n",
       "      <th>1</th>\n",
       "      <td>3</td>\n",
       "      <td>[[[19, 35, 34], [14, 30, 29], [9, 25, 23], [6,...</td>\n",
       "    </tr>\n",
       "    <tr>\n",
       "      <th>2</th>\n",
       "      <td>3</td>\n",
       "      <td>[[[58, 69, 89], [53, 63, 83], [46, 53, 73], [3...</td>\n",
       "    </tr>\n",
       "    <tr>\n",
       "      <th>3</th>\n",
       "      <td>2</td>\n",
       "      <td>[[[191, 191, 191], [189, 189, 189], [188, 188,...</td>\n",
       "    </tr>\n",
       "    <tr>\n",
       "      <th>4</th>\n",
       "      <td>0</td>\n",
       "      <td>[[[21, 39, 46], [21, 39, 46], [22, 40, 47], [2...</td>\n",
       "    </tr>\n",
       "    <tr>\n",
       "      <th>...</th>\n",
       "      <td>...</td>\n",
       "      <td>...</td>\n",
       "    </tr>\n",
       "    <tr>\n",
       "      <th>5680</th>\n",
       "      <td>3</td>\n",
       "      <td>[[[13, 16, 20], [20, 23, 27], [27, 30, 34], [3...</td>\n",
       "    </tr>\n",
       "    <tr>\n",
       "      <th>5681</th>\n",
       "      <td>1</td>\n",
       "      <td>[[[175, 177, 171], [171, 172, 168], [188, 191,...</td>\n",
       "    </tr>\n",
       "    <tr>\n",
       "      <th>5682</th>\n",
       "      <td>0</td>\n",
       "      <td>[[[12, 22, 6], [12, 22, 6], [12, 22, 6], [12, ...</td>\n",
       "    </tr>\n",
       "    <tr>\n",
       "      <th>5683</th>\n",
       "      <td>1</td>\n",
       "      <td>[[[182, 202, 220], [169, 190, 208], [132, 154,...</td>\n",
       "    </tr>\n",
       "    <tr>\n",
       "      <th>5684</th>\n",
       "      <td>2</td>\n",
       "      <td>[[[255, 255, 255], [254, 254, 254], [251, 251,...</td>\n",
       "    </tr>\n",
       "  </tbody>\n",
       "</table>\n",
       "<p>5685 rows × 2 columns</p>\n",
       "</div>"
      ],
      "text/plain": [
       "      Label                                           ImageBGR\n",
       "0         0  [[[87, 157, 140], [98, 168, 157], [115, 184, 1...\n",
       "1         3  [[[19, 35, 34], [14, 30, 29], [9, 25, 23], [6,...\n",
       "2         3  [[[58, 69, 89], [53, 63, 83], [46, 53, 73], [3...\n",
       "3         2  [[[191, 191, 191], [189, 189, 189], [188, 188,...\n",
       "4         0  [[[21, 39, 46], [21, 39, 46], [22, 40, 47], [2...\n",
       "...     ...                                                ...\n",
       "5680      3  [[[13, 16, 20], [20, 23, 27], [27, 30, 34], [3...\n",
       "5681      1  [[[175, 177, 171], [171, 172, 168], [188, 191,...\n",
       "5682      0  [[[12, 22, 6], [12, 22, 6], [12, 22, 6], [12, ...\n",
       "5683      1  [[[182, 202, 220], [169, 190, 208], [132, 154,...\n",
       "5684      2  [[[255, 255, 255], [254, 254, 254], [251, 251,...\n",
       "\n",
       "[5685 rows x 2 columns]"
      ]
     },
     "execution_count": 6,
     "metadata": {},
     "output_type": "execute_result"
    }
   ],
   "source": [
    "#Sample4 Training data is being read from pkl file\n",
    "trainingDf = pd.read_pickle(\"../../Data/Sample4/Training.pkl\")\n",
    "trainingDf"
   ]
  },
  {
   "cell_type": "code",
   "execution_count": 7,
   "metadata": {},
   "outputs": [
    {
     "data": {
      "text/plain": [
       "(5685, 224, 224, 3)"
      ]
     },
     "execution_count": 7,
     "metadata": {},
     "output_type": "execute_result"
    }
   ],
   "source": [
    "#trainingX is being extracted from trainingDf as wanted shape\n",
    "#trainingX contains images with pixel values of data type np.uint8 in the range [0, 255]\n",
    "\n",
    "#Many pre-trained models, including the ones to be used within the scope of this project,\n",
    "#have been trained with images containing pixel values in the [-1, 1] range\n",
    "#In this way, the data will be symmetrical and the performance of the Backpropagation algorithm will be increased\n",
    "#See https://en.wikipedia.org/wiki/Backpropagation\n",
    "#See also https://stackoverflow.com/questions/59540276/why-in-preprocessing-image-data-we-need-to-do-zero-centered-data\n",
    "#Therefore, training will be performed by converting pixel values to this range with the simplest method (pixel / 127.5 - 1)\n",
    "\n",
    "#Converting pixel values to range [-1, 1] in this section is an option\n",
    "#Doing this once over the entire array now will be save time\n",
    "#This is not how the conversion will be done because of some memory problems in this project\n",
    "#Images are of data type np.uint8 when they are in the range [0, 255]\n",
    "#np.uint8 requires 1 byte memory while np.float32 requires 4 byte and np.float64 requires 8 byte\n",
    "#See https://www.educba.com/numpy-data-types/\n",
    "#When np.uint8 data type, images use about 1GB memory\n",
    "#Even if these pixel values are converted to np.float32 data type, it will need about 4GB of memory\n",
    "#The computer used for this project has 8GB Ram\n",
    "#Considering operating system requirements, memory required by the model, etc. 8GB Ram is not enough for this process\n",
    "#For this reason, this method is not preferred, although it will save time\n",
    "\n",
    "#Data augmentation, can also be done in Data Preparation process or this section to save time\n",
    "#But this method is not preferred due to the same memory problems\n",
    "\n",
    "trainingX = np.array(trainingDf.ImageBGR.values.tolist())\n",
    "trainingX.shape"
   ]
  },
  {
   "cell_type": "code",
   "execution_count": 8,
   "metadata": {},
   "outputs": [
    {
     "data": {
      "text/plain": [
       "(5685, 1)"
      ]
     },
     "execution_count": 8,
     "metadata": {},
     "output_type": "execute_result"
    }
   ],
   "source": [
    "#trainingY is being extracted from trainingDf as wanted shape\n",
    "trainingY = np.array(trainingDf.Label.values.tolist()).reshape((-1,1))\n",
    "trainingY.shape"
   ]
  },
  {
   "cell_type": "code",
   "execution_count": 9,
   "metadata": {},
   "outputs": [],
   "source": [
    "#The dataframe is being deleted because the trainingDf will no longer be needed\n",
    "del trainingDf"
   ]
  },
  {
   "cell_type": "code",
   "execution_count": 10,
   "metadata": {},
   "outputs": [
    {
     "data": {
      "text/html": [
       "<div>\n",
       "<style scoped>\n",
       "    .dataframe tbody tr th:only-of-type {\n",
       "        vertical-align: middle;\n",
       "    }\n",
       "\n",
       "    .dataframe tbody tr th {\n",
       "        vertical-align: top;\n",
       "    }\n",
       "\n",
       "    .dataframe thead th {\n",
       "        text-align: right;\n",
       "    }\n",
       "</style>\n",
       "<table border=\"1\" class=\"dataframe\">\n",
       "  <thead>\n",
       "    <tr style=\"text-align: right;\">\n",
       "      <th></th>\n",
       "      <th>Label</th>\n",
       "      <th>ImageBGR</th>\n",
       "    </tr>\n",
       "  </thead>\n",
       "  <tbody>\n",
       "    <tr>\n",
       "      <th>0</th>\n",
       "      <td>1</td>\n",
       "      <td>[[[162, 172, 159], [162, 172, 159], [162, 172,...</td>\n",
       "    </tr>\n",
       "    <tr>\n",
       "      <th>1</th>\n",
       "      <td>0</td>\n",
       "      <td>[[[252, 250, 250], [252, 250, 250], [252, 250,...</td>\n",
       "    </tr>\n",
       "    <tr>\n",
       "      <th>2</th>\n",
       "      <td>2</td>\n",
       "      <td>[[[41, 43, 44], [40, 42, 43], [29, 31, 34], [1...</td>\n",
       "    </tr>\n",
       "    <tr>\n",
       "      <th>3</th>\n",
       "      <td>0</td>\n",
       "      <td>[[[20, 15, 14], [20, 15, 14], [20, 14, 14], [2...</td>\n",
       "    </tr>\n",
       "    <tr>\n",
       "      <th>4</th>\n",
       "      <td>3</td>\n",
       "      <td>[[[144, 151, 146], [146, 150, 145], [146, 150,...</td>\n",
       "    </tr>\n",
       "    <tr>\n",
       "      <th>...</th>\n",
       "      <td>...</td>\n",
       "      <td>...</td>\n",
       "    </tr>\n",
       "    <tr>\n",
       "      <th>943</th>\n",
       "      <td>3</td>\n",
       "      <td>[[[17, 16, 12], [24, 22, 20], [22, 19, 18], [1...</td>\n",
       "    </tr>\n",
       "    <tr>\n",
       "      <th>944</th>\n",
       "      <td>3</td>\n",
       "      <td>[[[33, 33, 39], [33, 33, 39], [33, 33, 39], [3...</td>\n",
       "    </tr>\n",
       "    <tr>\n",
       "      <th>945</th>\n",
       "      <td>3</td>\n",
       "      <td>[[[109, 99, 99], [108, 99, 99], [108, 100, 100...</td>\n",
       "    </tr>\n",
       "    <tr>\n",
       "      <th>946</th>\n",
       "      <td>1</td>\n",
       "      <td>[[[223, 236, 234], [223, 236, 234], [223, 236,...</td>\n",
       "    </tr>\n",
       "    <tr>\n",
       "      <th>947</th>\n",
       "      <td>1</td>\n",
       "      <td>[[[38, 41, 56], [38, 41, 56], [37, 40, 55], [3...</td>\n",
       "    </tr>\n",
       "  </tbody>\n",
       "</table>\n",
       "<p>948 rows × 2 columns</p>\n",
       "</div>"
      ],
      "text/plain": [
       "     Label                                           ImageBGR\n",
       "0        1  [[[162, 172, 159], [162, 172, 159], [162, 172,...\n",
       "1        0  [[[252, 250, 250], [252, 250, 250], [252, 250,...\n",
       "2        2  [[[41, 43, 44], [40, 42, 43], [29, 31, 34], [1...\n",
       "3        0  [[[20, 15, 14], [20, 15, 14], [20, 14, 14], [2...\n",
       "4        3  [[[144, 151, 146], [146, 150, 145], [146, 150,...\n",
       "..     ...                                                ...\n",
       "943      3  [[[17, 16, 12], [24, 22, 20], [22, 19, 18], [1...\n",
       "944      3  [[[33, 33, 39], [33, 33, 39], [33, 33, 39], [3...\n",
       "945      3  [[[109, 99, 99], [108, 99, 99], [108, 100, 100...\n",
       "946      1  [[[223, 236, 234], [223, 236, 234], [223, 236,...\n",
       "947      1  [[[38, 41, 56], [38, 41, 56], [37, 40, 55], [3...\n",
       "\n",
       "[948 rows x 2 columns]"
      ]
     },
     "execution_count": 10,
     "metadata": {},
     "output_type": "execute_result"
    }
   ],
   "source": [
    "#Sample4 Validation data is being read from pkl file\n",
    "validationDf = pd.read_pickle(\"../../Data/Sample4/Validation.pkl\")\n",
    "validationDf"
   ]
  },
  {
   "cell_type": "code",
   "execution_count": 11,
   "metadata": {},
   "outputs": [
    {
     "data": {
      "text/plain": [
       "(948, 224, 224, 3)"
      ]
     },
     "execution_count": 11,
     "metadata": {},
     "output_type": "execute_result"
    }
   ],
   "source": [
    "#validationX is being extracted from validationDf as wanted shape\n",
    "#validationX contains images with pixel values of data type np.uint8 in the range [0, 255]\n",
    "\n",
    "#Many pre-trained models, including the ones to be used within the scope of this project,\n",
    "#have been trained with images containing pixel values in the [-1, 1] range\n",
    "#In this way, the data will be symmetrical and the performance of the Backpropagation algorithm will be increased\n",
    "#See https://en.wikipedia.org/wiki/Backpropagation\n",
    "#See also https://stackoverflow.com/questions/59540276/why-in-preprocessing-image-data-we-need-to-do-zero-centered-data\n",
    "#Therefore, training will be performed by converting pixel values to this range with the simplest method (pixel / 127.5 - 1)\n",
    "\n",
    "#Converting pixel values to range [-1, 1] in this section is an option\n",
    "#Doing this once over the entire array now will be save time\n",
    "#This is not how the conversion will be done because of some memory problems in this project\n",
    "#Images are of data type np.uint8 when they are in the range [0, 255]\n",
    "#np.uint8 requires 1 byte memory while np.float32 requires 4 byte and np.float64 requires 8 byte\n",
    "#See https://www.educba.com/numpy-data-types/\n",
    "#When np.uint8 data type, images use about 1GB memory\n",
    "#Even if these pixel values are converted to np.float32 data type, it will need about 4GB of memory\n",
    "#The computer used for this project has 8GB Ram\n",
    "#Considering operating system requirements, memory required by the model, etc. 8GB Ram is not enough for this process\n",
    "#For this reason, this method is not preferred, although it will save time\n",
    "\n",
    "validationX = np.array(validationDf.ImageBGR.values.tolist())\n",
    "validationX.shape"
   ]
  },
  {
   "cell_type": "code",
   "execution_count": 12,
   "metadata": {},
   "outputs": [
    {
     "data": {
      "text/plain": [
       "(948, 1)"
      ]
     },
     "execution_count": 12,
     "metadata": {},
     "output_type": "execute_result"
    }
   ],
   "source": [
    "#validationY is being extracted from validationDf as wanted shape\n",
    "validationY = np.array(validationDf.Label.values.tolist()).reshape((-1,1))\n",
    "validationY.shape"
   ]
  },
  {
   "cell_type": "code",
   "execution_count": 13,
   "metadata": {},
   "outputs": [],
   "source": [
    "#The dataframe is being deleted because the validationDf will no longer be needed\n",
    "del validationDf"
   ]
  },
  {
   "cell_type": "code",
   "execution_count": 14,
   "metadata": {},
   "outputs": [
    {
     "name": "stdout",
     "output_type": "stream",
     "text": [
      "Model: \"vgg16\"\n",
      "_________________________________________________________________\n",
      "Layer (type)                 Output Shape              Param #   \n",
      "=================================================================\n",
      "input_1 (InputLayer)         [(None, 224, 224, 3)]     0         \n",
      "_________________________________________________________________\n",
      "block1_conv1 (Conv2D)        (None, 224, 224, 64)      1792      \n",
      "_________________________________________________________________\n",
      "block1_conv2 (Conv2D)        (None, 224, 224, 64)      36928     \n",
      "_________________________________________________________________\n",
      "block1_pool (MaxPooling2D)   (None, 112, 112, 64)      0         \n",
      "_________________________________________________________________\n",
      "block2_conv1 (Conv2D)        (None, 112, 112, 128)     73856     \n",
      "_________________________________________________________________\n",
      "block2_conv2 (Conv2D)        (None, 112, 112, 128)     147584    \n",
      "_________________________________________________________________\n",
      "block2_pool (MaxPooling2D)   (None, 56, 56, 128)       0         \n",
      "_________________________________________________________________\n",
      "block3_conv1 (Conv2D)        (None, 56, 56, 256)       295168    \n",
      "_________________________________________________________________\n",
      "block3_conv2 (Conv2D)        (None, 56, 56, 256)       590080    \n",
      "_________________________________________________________________\n",
      "block3_conv3 (Conv2D)        (None, 56, 56, 256)       590080    \n",
      "_________________________________________________________________\n",
      "block3_pool (MaxPooling2D)   (None, 28, 28, 256)       0         \n",
      "_________________________________________________________________\n",
      "block4_conv1 (Conv2D)        (None, 28, 28, 512)       1180160   \n",
      "_________________________________________________________________\n",
      "block4_conv2 (Conv2D)        (None, 28, 28, 512)       2359808   \n",
      "_________________________________________________________________\n",
      "block4_conv3 (Conv2D)        (None, 28, 28, 512)       2359808   \n",
      "_________________________________________________________________\n",
      "block4_pool (MaxPooling2D)   (None, 14, 14, 512)       0         \n",
      "_________________________________________________________________\n",
      "block5_conv1 (Conv2D)        (None, 14, 14, 512)       2359808   \n",
      "_________________________________________________________________\n",
      "block5_conv2 (Conv2D)        (None, 14, 14, 512)       2359808   \n",
      "_________________________________________________________________\n",
      "block5_conv3 (Conv2D)        (None, 14, 14, 512)       2359808   \n",
      "_________________________________________________________________\n",
      "block5_pool (MaxPooling2D)   (None, 7, 7, 512)         0         \n",
      "=================================================================\n",
      "Total params: 14,714,688\n",
      "Trainable params: 0\n",
      "Non-trainable params: 14,714,688\n",
      "_________________________________________________________________\n"
     ]
    }
   ],
   "source": [
    "#VGG16 pre-trained model is being loaded\n",
    "#The original VGG16 model was trained with images with size of (224, 224, 3) \n",
    "#in BGR color order and pixel values of [-1, 1] (zero centered) as default\n",
    "#See https://keras.io/api/applications/vgg/ for more information\n",
    "#Since images of dataset saved as size of (224, 224, 3) in BGR color order and pixel values of [0, 255]\n",
    "#dataset will be used by just converting the pixel values to the range [-1, 1]\n",
    "\n",
    "#Model is set to non-trainable\n",
    "#In this way, the convolutional layers that will be used for feature extraction will be used without changing them\n",
    "#Fully connected layers will be fed the feature-map obtained from the pre-trained convolutional model\n",
    "#the training process will be performed on this fully connected layers\n",
    "\n",
    "model = tf.keras.applications.vgg16.VGG16(include_top = False, input_shape = ((224, 224, 3)))\n",
    "model.trainable = False\n",
    "model.summary()"
   ]
  },
  {
   "cell_type": "code",
   "execution_count": 15,
   "metadata": {},
   "outputs": [
    {
     "name": "stdout",
     "output_type": "stream",
     "text": [
      "Model: \"sequential\"\n",
      "_________________________________________________________________\n",
      "Layer (type)                 Output Shape              Param #   \n",
      "=================================================================\n",
      "vgg16 (Functional)           (None, 7, 7, 512)         14714688  \n",
      "_________________________________________________________________\n",
      "flatten (Flatten)            (None, 25088)             0         \n",
      "_________________________________________________________________\n",
      "dense (Dense)                (None, 2048)              51382272  \n",
      "_________________________________________________________________\n",
      "dense_1 (Dense)              (None, 2048)              4196352   \n",
      "_________________________________________________________________\n",
      "dropout (Dropout)            (None, 2048)              0         \n",
      "_________________________________________________________________\n",
      "dense_2 (Dense)              (None, 4)                 8196      \n",
      "=================================================================\n",
      "Total params: 70,301,508\n",
      "Trainable params: 55,586,820\n",
      "Non-trainable params: 14,714,688\n",
      "_________________________________________________________________\n"
     ]
    }
   ],
   "source": [
    "#The pre-trained model is being connected to the fully connected layer where the training will performed\n",
    "#A dropout layer is being added to the the model to prevent overfitting,\n",
    "#and the model is being completed with the addition of the output layer\n",
    "model = tf.keras.models.Sequential([\n",
    "    model,\n",
    "    tf.keras.layers.Flatten(),\n",
    "    tf.keras.layers.Dense(2048, activation = 'relu'),\n",
    "    tf.keras.layers.Dense(2048, activation = 'relu'),\n",
    "    tf.keras.layers.Dropout(0.2),\n",
    "    tf.keras.layers.Dense(labelDf.shape[0], activation = tf.nn.softmax)\n",
    "])\n",
    "model.summary()"
   ]
  },
  {
   "cell_type": "code",
   "execution_count": 16,
   "metadata": {},
   "outputs": [],
   "source": [
    "#Model is being compiled with Adam optimizer\n",
    "#Adam optimizer is a common used optimizer\n",
    "#See https://keras.io/api/optimizers/adam/\n",
    "#See also https://towardsdatascience.com/7-tips-to-choose-the-best-optimizer-47bb9c1219e\n",
    "#SparseCategoricalCrossentropy loss function is being used because of the label format of the data\n",
    "#SparseCategoricalAccuracy is being used as metric because of the label format of the data\n",
    "model.compile(\n",
    "    optimizer=tf.keras.optimizers.Adam(),\n",
    "    loss=tf.keras.losses.SparseCategoricalCrossentropy(),\n",
    "    metrics=[tf.keras.metrics.SparseCategoricalAccuracy(name = 'accuracy')]\n",
    ")"
   ]
  },
  {
   "cell_type": "code",
   "execution_count": 17,
   "metadata": {},
   "outputs": [],
   "source": [
    "#A class inherited from keras utils Sequence is being created\n",
    "class FitSequence(tf.keras.utils.Sequence):\n",
    "    \n",
    "    #Constructor method is being defined\n",
    "    def __init__(self, image, label, batchSize, imagesPerImage):\n",
    "        self.image, self.label = image, label\n",
    "        self.batchSize = batchSize\n",
    "        \n",
    "        #A numpy array for image indexes is being created\n",
    "        #This array will be used to shuffle the data\n",
    "        self.index = np.arange(self.image.shape[0])\n",
    "        self.imagesPerImage = imagesPerImage\n",
    "        \n",
    "        #batch sizes are being calculated for correct information during training\n",
    "        self.originalBatch = self.image.shape[0] / float(self.batchSize)\n",
    "        self.batchLen = int(np.ceil(self.originalBatch * self.imagesPerImage))\n",
    "        self.originalBatch = int(np.ceil(self.originalBatch))\n",
    "        self.repeatData = -1\n",
    "        \n",
    "        #Image Augmentation layer\n",
    "        #See https://www.tensorflow.org/tutorials/images/data_augmentation\n",
    "        self.imageAugmentation = tf.keras.Sequential([\n",
    "          tf.keras.layers.RandomFlip(\"horizontal_and_vertical\"),\n",
    "          tf.keras.layers.RandomRotation(0.2),\n",
    "        ])\n",
    "        \n",
    "\n",
    "    #__len__ method is being defined\n",
    "    #This method will be used by the model to show the amount of progress of each epoch\n",
    "    def __len__(self):\n",
    "        return self.batchLen\n",
    "\n",
    "    #__getitem__ method is being defined\n",
    "    #The model will retrieve the batches it will use during training by calling this method\n",
    "    #With this method, the data to be used by the model can be manipulated\n",
    "    def __getitem__(self, idx):\n",
    "        \n",
    "        #Since randomly augmented images obtained from the same image will be added to the batches,\n",
    "        #there will be more batches than expected\n",
    "        #so the taken index is updated by taking the mode according to the original batch\n",
    "        idx = idx % self.originalBatch\n",
    "        \n",
    "        #If the index is 0, that is, the loop in the epoch has returned to the beginning\n",
    "        if idx == 0:\n",
    "            \n",
    "            #The index array is being shuffled\n",
    "            #so that the data in the next repeat is returned in different orders\n",
    "            np.random.shuffle(self.index)\n",
    "            \n",
    "            #repeatData is being incremented by 1\n",
    "            self.repeatData += 1\n",
    "            \n",
    "        #When the model requests data, the next batch size will be selected based on index array\n",
    "        indexPart = self.index[idx * self.batchSize : (idx + 1) * self.batchSize]\n",
    "        \n",
    "        #if it is the first iteration of data in the epoch,\n",
    "        #selected data from data in original list are being returned\n",
    "        if self.repeatData == 0:\n",
    "            return self.__OriginalBatch(indexPart)\n",
    "        \n",
    "        #if it is not the first iteration of data in the epoch,\n",
    "        #data augmented using select data are being returned\n",
    "        else:\n",
    "            return self.__AugmentedBatch(indexPart)\n",
    "        \n",
    "    #on_epoch_end method is being defined\n",
    "    #The model will call this method after each epoch is ended\n",
    "    def on_epoch_end(self):\n",
    "        \n",
    "        #repeatData is updated to -1 at the end of each epoch\n",
    "        self.repeatData = -1\n",
    "    \n",
    "    #this method will be called if element from original list will be returned\n",
    "    def __OriginalBatch(self, indexPart):\n",
    "        \n",
    "        #Before being sent to the model on demand pixel values will be converted to range [-1, 1]\n",
    "        #Doing this operation here means that it will be repeated as many epochs for each image and this wastes time\n",
    "        #This is how the conversion is being done because of some memory problem in this project\n",
    "        batchX = (self.image[indexPart] / 127.5) - 1\n",
    "        batchY = self.label[indexPart]\n",
    "        return np.array(batchX), np.array(batchY)\n",
    "    \n",
    "    #This method will be called if images created with the data augmentation method will be returned\n",
    "    #Doing Data Augmentation operation here means that it will be repeated as many epochs for each image and this wastes time\n",
    "    #On the other hand, since the data augmentation process is done with random rotation and random flip,\n",
    "    #different variations can be obtained of the original image each time\n",
    "    #This can be have a preventative effect on overfitting\n",
    "    def __AugmentedBatch(self, indexPart):\n",
    "        augmentedList = []\n",
    "        for i in indexPart:\n",
    "            augmentedList.append(self.imageAugmentation(self.image[i]))\n",
    "        \n",
    "        #Before being sent to the model on demand pixel values will be converted to range [-1, 1]\n",
    "        #Doing this operation here means that it will be repeated as many epochs for each image and this wastes time\n",
    "        #This is how the conversion is being done because of some memory problem in this project\n",
    "        batchX = (np.array(augmentedList) / 127.5) - 1\n",
    "        batchY = self.label[indexPart]\n",
    "        return np.array(batchX), np.array(batchY)"
   ]
  },
  {
   "cell_type": "code",
   "execution_count": 18,
   "metadata": {},
   "outputs": [
    {
     "name": "stdout",
     "output_type": "stream",
     "text": [
      "Epoch 1/15\n",
      "2843/2843 [==============================] - 2000s 692ms/step - loss: 1.1894 - accuracy: 0.4850 - val_loss: 1.1226 - val_accuracy: 0.5327\n",
      "Epoch 2/15\n",
      "2843/2843 [==============================] - 2512s 884ms/step - loss: 1.0006 - accuracy: 0.5754 - val_loss: 0.9578 - val_accuracy: 0.5960\n",
      "Epoch 3/15\n",
      "2843/2843 [==============================] - 2734s 962ms/step - loss: 0.9437 - accuracy: 0.6100 - val_loss: 0.9534 - val_accuracy: 0.6118\n",
      "Epoch 4/15\n",
      "2843/2843 [==============================] - 2373s 835ms/step - loss: 0.8432 - accuracy: 0.6582 - val_loss: 0.9487 - val_accuracy: 0.6118\n",
      "Epoch 5/15\n",
      "2843/2843 [==============================] - 2447s 861ms/step - loss: 0.8101 - accuracy: 0.6736 - val_loss: 0.9515 - val_accuracy: 0.6139\n",
      "Epoch 6/15\n",
      "2843/2843 [==============================] - 2340s 823ms/step - loss: 0.7321 - accuracy: 0.7071 - val_loss: 0.9250 - val_accuracy: 0.6234\n",
      "Epoch 7/15\n",
      "2843/2843 [==============================] - 2354s 828ms/step - loss: 0.6812 - accuracy: 0.7296 - val_loss: 1.1670 - val_accuracy: 0.5791\n",
      "Epoch 8/15\n",
      "2843/2843 [==============================] - 2694s 948ms/step - loss: 0.8510 - accuracy: 0.6556 - val_loss: 0.9352 - val_accuracy: 0.6097\n",
      "Epoch 9/15\n",
      "2843/2843 [==============================] - 2319s 816ms/step - loss: 0.6019 - accuracy: 0.7640 - val_loss: 0.9620 - val_accuracy: 0.6171\n",
      "Epoch 10/15\n",
      "2843/2843 [==============================] - 2441s 858ms/step - loss: 0.6847 - accuracy: 0.7297 - val_loss: 0.9560 - val_accuracy: 0.6308\n",
      "Epoch 11/15\n",
      "2843/2843 [==============================] - 2382s 838ms/step - loss: 0.6323 - accuracy: 0.7485 - val_loss: 1.0143 - val_accuracy: 0.6276\n",
      "Epoch 12/15\n",
      "2843/2843 [==============================] - 2609s 918ms/step - loss: 0.8082 - accuracy: 0.6765 - val_loss: 0.9859 - val_accuracy: 0.6245\n",
      "Epoch 13/15\n",
      "2843/2843 [==============================] - 2495s 878ms/step - loss: 0.7006 - accuracy: 0.7205 - val_loss: 1.0172 - val_accuracy: 0.6319\n",
      "Epoch 14/15\n",
      "2843/2843 [==============================] - 2625s 923ms/step - loss: 0.7867 - accuracy: 0.6836 - val_loss: 0.9272 - val_accuracy: 0.6319\n",
      "Epoch 15/15\n",
      "2843/2843 [==============================] - 2410s 848ms/step - loss: 0.6356 - accuracy: 0.7533 - val_loss: 0.9791 - val_accuracy: 0.6382\n"
     ]
    }
   ],
   "source": [
    "#model is being trained with EPOCH_NUMBER epochs and BATCH_SIZE batchSize using GPU\n",
    "\n",
    "#3 more images will be obtained from each original for training data so the number of images will be quadrupled\n",
    "#Only the originals of the validation data will be used\n",
    "\n",
    "with tf.device(myGPU):\n",
    "    trainingHistory = model.fit(\n",
    "        FitSequence(trainingX, trainingY, BATCH_SIZE, 4),\n",
    "        epochs = EPOCH_NUMBER,\n",
    "        validation_data = FitSequence(validationX, validationY, BATCH_SIZE, 1)\n",
    "    )"
   ]
  },
  {
   "cell_type": "code",
   "execution_count": 19,
   "metadata": {},
   "outputs": [
    {
     "data": {
      "image/png": "[encoded data removed]",
      "text/plain": [
       "<Figure size 432x288 with 1 Axes>"
      ]
     },
     "metadata": {
      "needs_background": "light"
     },
     "output_type": "display_data"
    }
   ],
   "source": [
    "#Loss Chart is being drawn\n",
    "\n",
    "#Chart Values\n",
    "plt.plot(trainingHistory.history['loss'])\n",
    "plt.plot(trainingHistory.history['val_loss'])\n",
    "\n",
    "#Chart Tittle\n",
    "plt.title('Model Loss Chart')\n",
    "\n",
    "#Chart Labels\n",
    "plt.ylabel('loss')\n",
    "plt.xlabel('epoch')\n",
    "\n",
    "#Chart Lines\n",
    "plt.legend(['Training', 'Validation'], loc='upper left')\n",
    "\n",
    "#Show Method\n",
    "plt.show()"
   ]
  },
  {
   "cell_type": "code",
   "execution_count": 20,
   "metadata": {},
   "outputs": [
    {
     "data": {
      "image/png": "[encoded data removed]",
      "text/plain": [
       "<Figure size 432x288 with 1 Axes>"
      ]
     },
     "metadata": {
      "needs_background": "light"
     },
     "output_type": "display_data"
    }
   ],
   "source": [
    "#Accuracy Chart is being drawn\n",
    "\n",
    "#Chart Values\n",
    "plt.plot(trainingHistory.history['accuracy'])\n",
    "plt.plot(trainingHistory.history['val_accuracy'])\n",
    "\n",
    "#Chart Tittle\n",
    "plt.title('model accuracy')\n",
    "\n",
    "#Chart Labels\n",
    "plt.ylabel('accuracy')\n",
    "plt.xlabel('epoch')\n",
    "\n",
    "#Chart Lines\n",
    "plt.legend(['Training', 'Validation'], loc='upper left')\n",
    "\n",
    "#Show Method\n",
    "plt.show()"
   ]
  },
  {
   "cell_type": "code",
   "execution_count": 21,
   "metadata": {},
   "outputs": [
    {
     "data": {
      "text/html": [
       "<div>\n",
       "<style scoped>\n",
       "    .dataframe tbody tr th:only-of-type {\n",
       "        vertical-align: middle;\n",
       "    }\n",
       "\n",
       "    .dataframe tbody tr th {\n",
       "        vertical-align: top;\n",
       "    }\n",
       "\n",
       "    .dataframe thead th {\n",
       "        text-align: right;\n",
       "    }\n",
       "</style>\n",
       "<table border=\"1\" class=\"dataframe\">\n",
       "  <thead>\n",
       "    <tr style=\"text-align: right;\">\n",
       "      <th></th>\n",
       "      <th>Label</th>\n",
       "      <th>ImageBGR</th>\n",
       "    </tr>\n",
       "  </thead>\n",
       "  <tbody>\n",
       "    <tr>\n",
       "      <th>0</th>\n",
       "      <td>3</td>\n",
       "      <td>[[[40, 46, 59], [41, 48, 61], [44, 52, 65], [4...</td>\n",
       "    </tr>\n",
       "    <tr>\n",
       "      <th>1</th>\n",
       "      <td>1</td>\n",
       "      <td>[[[200, 200, 200], [200, 200, 200], [196, 196,...</td>\n",
       "    </tr>\n",
       "    <tr>\n",
       "      <th>2</th>\n",
       "      <td>1</td>\n",
       "      <td>[[[19, 35, 24], [19, 35, 24], [19, 35, 24], [2...</td>\n",
       "    </tr>\n",
       "    <tr>\n",
       "      <th>3</th>\n",
       "      <td>0</td>\n",
       "      <td>[[[218, 221, 196], [213, 215, 198], [206, 206,...</td>\n",
       "    </tr>\n",
       "    <tr>\n",
       "      <th>4</th>\n",
       "      <td>3</td>\n",
       "      <td>[[[75, 93, 86], [76, 93, 86], [79, 96, 89], [8...</td>\n",
       "    </tr>\n",
       "    <tr>\n",
       "      <th>...</th>\n",
       "      <td>...</td>\n",
       "      <td>...</td>\n",
       "    </tr>\n",
       "    <tr>\n",
       "      <th>942</th>\n",
       "      <td>1</td>\n",
       "      <td>[[[244, 215, 171], [246, 217, 175], [243, 215,...</td>\n",
       "    </tr>\n",
       "    <tr>\n",
       "      <th>943</th>\n",
       "      <td>1</td>\n",
       "      <td>[[[45, 51, 50], [45, 51, 49], [44, 46, 46], [4...</td>\n",
       "    </tr>\n",
       "    <tr>\n",
       "      <th>944</th>\n",
       "      <td>1</td>\n",
       "      <td>[[[21, 28, 37], [21, 28, 37], [20, 27, 36], [2...</td>\n",
       "    </tr>\n",
       "    <tr>\n",
       "      <th>945</th>\n",
       "      <td>1</td>\n",
       "      <td>[[[255, 255, 255], [255, 255, 255], [255, 255,...</td>\n",
       "    </tr>\n",
       "    <tr>\n",
       "      <th>946</th>\n",
       "      <td>1</td>\n",
       "      <td>[[[3, 3, 3], [3, 3, 3], [3, 3, 3], [1, 1, 3], ...</td>\n",
       "    </tr>\n",
       "  </tbody>\n",
       "</table>\n",
       "<p>947 rows × 2 columns</p>\n",
       "</div>"
      ],
      "text/plain": [
       "     Label                                           ImageBGR\n",
       "0        3  [[[40, 46, 59], [41, 48, 61], [44, 52, 65], [4...\n",
       "1        1  [[[200, 200, 200], [200, 200, 200], [196, 196,...\n",
       "2        1  [[[19, 35, 24], [19, 35, 24], [19, 35, 24], [2...\n",
       "3        0  [[[218, 221, 196], [213, 215, 198], [206, 206,...\n",
       "4        3  [[[75, 93, 86], [76, 93, 86], [79, 96, 89], [8...\n",
       "..     ...                                                ...\n",
       "942      1  [[[244, 215, 171], [246, 217, 175], [243, 215,...\n",
       "943      1  [[[45, 51, 50], [45, 51, 49], [44, 46, 46], [4...\n",
       "944      1  [[[21, 28, 37], [21, 28, 37], [20, 27, 36], [2...\n",
       "945      1  [[[255, 255, 255], [255, 255, 255], [255, 255,...\n",
       "946      1  [[[3, 3, 3], [3, 3, 3], [3, 3, 3], [1, 1, 3], ...\n",
       "\n",
       "[947 rows x 2 columns]"
      ]
     },
     "execution_count": 21,
     "metadata": {},
     "output_type": "execute_result"
    }
   ],
   "source": [
    "#Sample4 Test data is being read from pkl file\n",
    "testDf = pd.read_pickle(\"../../Data/Sample4/Test.pkl\")\n",
    "testDf"
   ]
  },
  {
   "cell_type": "code",
   "execution_count": 22,
   "metadata": {},
   "outputs": [
    {
     "data": {
      "text/plain": [
       "(947, 224, 224, 3)"
      ]
     },
     "execution_count": 22,
     "metadata": {},
     "output_type": "execute_result"
    }
   ],
   "source": [
    "#testX is being extracted from testDf as wanted shape\n",
    "testX = np.array(testDf.ImageBGR.values.tolist())\n",
    "testX.shape"
   ]
  },
  {
   "cell_type": "code",
   "execution_count": 23,
   "metadata": {},
   "outputs": [
    {
     "data": {
      "text/plain": [
       "(947, 1)"
      ]
     },
     "execution_count": 23,
     "metadata": {},
     "output_type": "execute_result"
    }
   ],
   "source": [
    "#testY is being extracted from testDf as wanted shape\n",
    "testY = np.array(testDf.Label.values.tolist()).reshape((-1,1))\n",
    "testY.shape"
   ]
  },
  {
   "cell_type": "code",
   "execution_count": 24,
   "metadata": {},
   "outputs": [],
   "source": [
    "#The dataframe is being deleted because the testDf will no longer be needed\n",
    "del testDf"
   ]
  },
  {
   "cell_type": "code",
   "execution_count": 25,
   "metadata": {},
   "outputs": [
    {
     "name": "stdout",
     "output_type": "stream",
     "text": [
      "119/119 [==============================] - 72s 600ms/step - loss: 0.9241 - accuracy: 0.6431\n"
     ]
    }
   ],
   "source": [
    "#Model is being evaluated with test data\n",
    "#Sequence class is being also used for evaluation to convert test data into the same format as training data\n",
    "testResult = model.evaluate(FitSequence(testX, testY, BATCH_SIZE, 1))"
   ]
  },
  {
   "cell_type": "code",
   "execution_count": 26,
   "metadata": {},
   "outputs": [
    {
     "name": "stdout",
     "output_type": "stream",
     "text": [
      "Test Loss: 0.9241276979446411\n"
     ]
    }
   ],
   "source": [
    "#Test Loss is being Printed\n",
    "print('Test Loss: ' + str(testResult[0]))"
   ]
  },
  {
   "cell_type": "code",
   "execution_count": 27,
   "metadata": {},
   "outputs": [
    {
     "name": "stdout",
     "output_type": "stream",
     "text": [
      "Test Accuracy: 0.643083393573761\n"
     ]
    }
   ],
   "source": [
    "#Test Accuracy is being Printed\n",
    "print('Test Accuracy: ' + str(testResult[1]))"
   ]
  },
  {
   "cell_type": "code",
   "execution_count": 28,
   "metadata": {},
   "outputs": [
    {
     "data": {
      "text/plain": [
       "(947, 1)"
      ]
     },
     "execution_count": 28,
     "metadata": {},
     "output_type": "execute_result"
    }
   ],
   "source": [
    "#in this block, testX prediction results are being converted in same format as testY\n",
    "resultList = []\n",
    "for i in range((testX.shape[0] // 8) + 1):\n",
    "    #testX is being sliced to Batches\n",
    "    testSlice = (testX[i * 8: (i + 1) * 8] / 127.5) - 1\n",
    "    if testSlice.shape[0] > 0:\n",
    "        #The testX data is sent to the predict function and the results are being stored in the testPredict\n",
    "        #testPredict results are a numpy array of float type and size of labelDf.shape[0] for each X\n",
    "        #in this case shape of testPredict is (BATCH_SIZE,  labelDf.shape[0])\n",
    "        #This is because the deep learning model used returns the results as one-hot encoded\n",
    "        #See https://en.wikipedia.org/wiki/One-hot \n",
    "        #for learn more about one-hot encoding\n",
    "        #The process applied in this project is a classification\n",
    "        #One-hot encoding is frequently used in classification processes\n",
    "        testPredict = model.predict(testSlice)\n",
    "        for j in range(testPredict.shape[0]):\n",
    "            #The data stored as one-hot in testPredict is being converted to sparse categorical format like testY \n",
    "            #by taking the index of the maximum value with the argmax function\n",
    "            \n",
    "            #See also\n",
    "            #https://medium.com/low-code-for-advanced-data-science/dealing-with-sparse-categorical-variables-in-predictive-modeling-6d9548e22e7f\n",
    "            resultList.append(testPredict[j].argmax(axis=0))\n",
    "result = np.array(resultList).reshape((-1,1))\n",
    "#the shape of result array, same as testY as can be seen\n",
    "result.shape"
   ]
  },
  {
   "cell_type": "code",
   "execution_count": 29,
   "metadata": {},
   "outputs": [
    {
     "data": {
      "text/plain": [
       "array([[206.,   6.,   4.,  28.],\n",
       "       [ 37., 121.,  18.,  51.],\n",
       "       [ 16.,  30., 164.,  31.],\n",
       "       [ 49.,  34.,  17., 135.]])"
      ]
     },
     "execution_count": 29,
     "metadata": {},
     "output_type": "execute_result"
    }
   ],
   "source": [
    "#A kind of confusion matrix and total array for number of each label is being created on this block\n",
    "#See https://en.wikipedia.org/wiki/Confusion_matrix \n",
    "#for more details about confusion matrix\n",
    "total = np.zeros(labelDf.shape[0], np.int32).reshape((-1,1))\n",
    "confusionMatrix = np.zeros([labelDf.shape[0], labelDf.shape[0]])\n",
    "for i in range(result.shape[0]):\n",
    "    #total counts for each label\n",
    "    total[testY[i]] += 1\n",
    "    #rows of confusionMatrix indicates each label and columns indicates predicted labels\n",
    "    confusionMatrix[testY[i], result[i]] += 1\n",
    "\n",
    "#To examine, confusionMatrix[1, 1] indicates how many of the data with label 1\n",
    "#are predicted correctly according to the predict results\n",
    "#and confusionMatrix[1, 2] shows how many of the data with label 1 were predicted as label 2\n",
    "confusionMatrix"
   ]
  },
  {
   "cell_type": "code",
   "execution_count": 30,
   "metadata": {},
   "outputs": [
    {
     "data": {
      "text/plain": [
       "array([[0.8442623 , 0.02459016, 0.01639344, 0.1147541 ],\n",
       "       [0.16299559, 0.53303965, 0.07929515, 0.2246696 ],\n",
       "       [0.06639004, 0.12448133, 0.68049793, 0.12863071],\n",
       "       [0.20851064, 0.14468085, 0.07234043, 0.57446809]])"
      ]
     },
     "execution_count": 30,
     "metadata": {},
     "output_type": "execute_result"
    }
   ],
   "source": [
    "#in this block the rates are being calculated for the confusion matrix\n",
    "confusionMatrix = confusionMatrix / total\n",
    "confusionMatrix"
   ]
  },
  {
   "cell_type": "code",
   "execution_count": 31,
   "metadata": {},
   "outputs": [
    {
     "data": {
      "image/png": "[encoded data removed]",
      "text/plain": [
       "<Figure size 648x1080 with 4 Axes>"
      ]
     },
     "metadata": {
      "needs_background": "light"
     },
     "output_type": "display_data"
    }
   ],
   "source": [
    "#label list is being created\n",
    "labels = labelDf.Name.values.tolist()\n",
    "\n",
    "#length of label list is being calculated\n",
    "lenLabel = len(labels)\n",
    "\n",
    "#color list is being defined\n",
    "colorList = ['blue', 'green', 'red', 'cyan', 'magenta', 'orange', 'olive']\n",
    "\n",
    "#Figure and Axes are being defined\n",
    "fig, ax = plt.subplots(lenLabel, figsize=(9, 15))\n",
    "\n",
    "#Figure title is being defined\n",
    "fig.suptitle('Prediction rates for each Label')\n",
    "\n",
    "#Each row of the confusion matrix is added to the charts as separate chart\n",
    "for i in range(lenLabel):\n",
    "    ax[i].bar(labels, confusionMatrix[i], color = colorList[(i % len(colorList))])\n",
    "    ax[i].set_title(labels[i])\n",
    "\n",
    "#For better format\n",
    "fig.tight_layout()\n",
    "\n",
    "#show plot\n",
    "plt.show()"
   ]
  },
  {
   "cell_type": "markdown",
   "metadata": {},
   "source": [
    "# Training7 Inference\n",
    "\n",
    "By looking at the charts, it can be seen that the number of epochs is insufficient to reach the exact result.\n",
    "\n",
    "Performance can be improved by trying Hyperparameter Optimization methods.\n",
    "\n",
    "See https://en.wikipedia.org/wiki/Hyperparameter_optimization."
   ]
  }
 ],
 "metadata": {
  "kernelspec": {
   "display_name": "Py39AI",
   "language": "python",
   "name": "py39ai"
  },
  "language_info": {
   "codemirror_mode": {
    "name": "ipython",
    "version": 3
   },
   "file_extension": ".py",
   "mimetype": "text/x-python",
   "name": "python",
   "nbconvert_exporter": "python",
   "pygments_lexer": "ipython3",
   "version": "3.9.12"
  }
 },
 "nbformat": 4,
 "nbformat_minor": 2
}
